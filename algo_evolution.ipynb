{
 "cells": [
  {
   "cell_type": "code",
   "execution_count": 1,
   "id": "6340188d",
   "metadata": {},
   "outputs": [
    {
     "name": "stdout",
     "output_type": "stream",
     "text": [
      "1.4\n"
     ]
    }
   ],
   "source": [
    "import deap\n",
    "print(deap.__version__)\n"
   ]
  },
  {
   "cell_type": "code",
   "execution_count": null,
   "id": "ab56354e",
   "metadata": {},
   "outputs": [],
   "source": [
    "from deap import base, creator, tools\n",
    "import random\n",
    "\n",
    "creator.create(\"FitnessMax\", base.Fitness, weights=(1.0,))  # maximize volume\n",
    "creator.create(\"Individual\", list, fitness=creator.FitnessMax)\n",
    "\n",
    "toolbox = base.Toolbox()\n",
    "toolbox.register(\"attr_float\", random.uniform, -1, 1)\n",
    "# TODO: Yitong I don't think it's just 30 floats... it should be more!\n",
    "# We have a flat 50 different landmark points... each with 3 variables - the direction, for a total of 150\n",
    "toolbox.register(\"individual\", tools.initRepeat, creator.Individual, toolbox.attr_float, n=150)\n",
    "toolbox.register(\"population\", tools.initRepeat, list, toolbox.individual)\n"
   ]
  },
  {
   "cell_type": "code",
   "execution_count": null,
   "id": "90bb507b",
   "metadata": {},
   "outputs": [],
   "source": [
    "import subprocess\n",
    "\n",
    "def generate_mesh(individual, output_path=\"cup.stl\"):\n",
    "    # Save points to file or pass as args\n",
    "    args = [str(x) for x in individual]\n",
    "    subprocess.run([\"blender\", \"--background\", \"--python\", \"generate_cup.py\", \"--\"] + args)\n"
   ]
  },
  {
   "cell_type": "code",
   "execution_count": null,
   "id": "53651a73",
   "metadata": {},
   "outputs": [],
   "source": [
    "import trimesh\n",
    "\n",
    "def estimate_cuppiness(stl_path):\n",
    "    mesh = trimesh.load_mesh(stl_path)\n",
    "    if not mesh.is_watertight:\n",
    "        return 0.0  # Leaky = not a cup\n",
    "\n",
    "    # Axis-aligned bounding box and flood-fill assumption\n",
    "    z_dir = [0, 0, 1]\n",
    "    water_plane_height = mesh.bounds[1][2]  # top z\n",
    "    volume = mesh.volume  # crude, but fast\n",
    "\n",
    "    return volume  # or something fancier like inner cavity only\n"
   ]
  }
 ],
 "metadata": {
  "kernelspec": {
   "display_name": "ethical_necromancy",
   "language": "python",
   "name": "python3"
  },
  "language_info": {
   "codemirror_mode": {
    "name": "ipython",
    "version": 3
   },
   "file_extension": ".py",
   "mimetype": "text/x-python",
   "name": "python",
   "nbconvert_exporter": "python",
   "pygments_lexer": "ipython3",
   "version": "3.11.8"
  }
 },
 "nbformat": 4,
 "nbformat_minor": 5
}
